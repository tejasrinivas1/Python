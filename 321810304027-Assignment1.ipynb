{
 "cells": [
  {
   "cell_type": "code",
   "execution_count": 1,
   "metadata": {},
   "outputs": [
    {
     "name": "stdout",
     "output_type": "stream",
     "text": [
      "Enter variables\n",
      "2\n",
      "3\n",
      "6\n",
      "-1\n",
      "6\n",
      "0.6666666666666666\n",
      "2\n",
      "8\n",
      "0\n"
     ]
    }
   ],
   "source": [
    "print(\"Enter variables\")\n",
    "a=int(input())\n",
    "b=int(input())\n",
    "print(a*b)\n",
    "print(a-b)\n",
    "print(a*b)\n",
    "print(a/b)\n",
    "print(a%b)\n",
    "print(a**b)\n",
    "print(a//b)"
   ]
  },
  {
   "cell_type": "code",
   "execution_count": 2,
   "metadata": {},
   "outputs": [
    {
     "name": "stdout",
     "output_type": "stream",
     "text": [
      "1\n",
      "2\n",
      "3\n",
      "0.06\n"
     ]
    }
   ],
   "source": [
    "p=float(input())\n",
    "t=float(input())\n",
    "r=float(input())\n",
    "si=(p*t*r)/100\n",
    "print(si)"
   ]
  },
  {
   "cell_type": "code",
   "execution_count": 10,
   "metadata": {},
   "outputs": [
    {
     "name": "stdout",
     "output_type": "stream",
     "text": [
      "1.2\n",
      "4.5216\n"
     ]
    }
   ],
   "source": [
    "r=float(input())\n",
    "area=3.14*r**2\n",
    "print(area)"
   ]
  },
  {
   "cell_type": "code",
   "execution_count": 12,
   "metadata": {},
   "outputs": [
    {
     "name": "stdout",
     "output_type": "stream",
     "text": [
      "4\n",
      "2\n",
      "4.0\n"
     ]
    }
   ],
   "source": [
    "b=int(input())\n",
    "h=int(input())\n",
    "area=1/2*b*h\n",
    "print(area)"
   ]
  },
  {
   "cell_type": "code",
   "execution_count": 14,
   "metadata": {},
   "outputs": [
    {
     "name": "stdout",
     "output_type": "stream",
     "text": [
      "1\n",
      "33.8\n"
     ]
    }
   ],
   "source": [
    "tc=float(input())\n",
    "tf=(9/5*tc)+32\n",
    "print(tf)"
   ]
  },
  {
   "cell_type": "code",
   "execution_count": 17,
   "metadata": {},
   "outputs": [
    {
     "name": "stdout",
     "output_type": "stream",
     "text": [
      "1\n",
      "22\n",
      "22\n"
     ]
    }
   ],
   "source": [
    "l=int(input())\n",
    "b=int(input())\n",
    "print(l*b)"
   ]
  },
  {
   "cell_type": "code",
   "execution_count": 16,
   "metadata": {},
   "outputs": [
    {
     "name": "stdout",
     "output_type": "stream",
     "text": [
      "2\n",
      "8\n"
     ]
    }
   ],
   "source": [
    "a=int(input())\n",
    "print(4*a)"
   ]
  },
  {
   "cell_type": "code",
   "execution_count": 18,
   "metadata": {},
   "outputs": [
    {
     "name": "stdout",
     "output_type": "stream",
     "text": [
      "2\n",
      "12.56\n"
     ]
    }
   ],
   "source": [
    "r=float(input())\n",
    "area=2*3.14*r\n",
    "print(area)"
   ]
  },
  {
   "cell_type": "code",
   "execution_count": 20,
   "metadata": {},
   "outputs": [
    {
     "name": "stdout",
     "output_type": "stream",
     "text": [
      "1\n",
      "2\n",
      "2 1\n"
     ]
    }
   ],
   "source": [
    "a=int(input())\n",
    "b=int(input())\n",
    "temp=a\n",
    "a=b\n",
    "b=temp\n",
    "print(a,b)"
   ]
  }
 ],
 "metadata": {
  "kernelspec": {
   "display_name": "Python 3",
   "language": "python",
   "name": "python3"
  },
  "language_info": {
   "codemirror_mode": {
    "name": "ipython",
    "version": 3
   },
   "file_extension": ".py",
   "mimetype": "text/x-python",
   "name": "python",
   "nbconvert_exporter": "python",
   "pygments_lexer": "ipython3",
   "version": "3.7.6"
  }
 },
 "nbformat": 4,
 "nbformat_minor": 4
}
